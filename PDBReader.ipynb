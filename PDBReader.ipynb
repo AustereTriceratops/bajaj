{
 "cells": [
  {
   "cell_type": "code",
   "execution_count": 57,
   "metadata": {},
   "outputs": [],
   "source": [
    "from copy import deepcopy"
   ]
  },
  {
   "cell_type": "code",
   "execution_count": 1,
   "metadata": {},
   "outputs": [],
   "source": [
    "def atoms_from_pdb(filepath):\n",
    "    atom_positions = []\n",
    "\n",
    "    with open(filepath, \"r\") as file:\n",
    "        line = file.readline()\n",
    "\n",
    "        # loops over all lines in file until the end\n",
    "        while line != '':\n",
    "            if line[:4] == \"ATOM\":  # only read ATOM data\n",
    "                split_line = line.split(' ')  # split by space\n",
    "                # split will have to be self-implemented in C++\n",
    "                entries = []\n",
    "\n",
    "                for string in split_line:  # remove empty strings\n",
    "                    if string != '':\n",
    "                        entries.append(string)\n",
    "                        # in C++ this is vector::push_back()\n",
    "\n",
    "                position_vec = []\n",
    "                for i in entries[6:9]:  # columns 6-8 contain XYZ coords\n",
    "                    position_vec.append(float(i))\n",
    "\n",
    "                atom_positions.append(position_vec)\n",
    "\n",
    "            line = file.readline()\n",
    "            \n",
    "    return atom_positions\n",
    "\n",
    "atom_positions = atoms_from_pdb(\"2erk.pdb\")"
   ]
  },
  {
   "cell_type": "code",
   "execution_count": 2,
   "metadata": {},
   "outputs": [],
   "source": [
    "# not done with np because I plan to move this to C++\n",
    "\n",
    "def find_minima(atom_centers):\n",
    "    minima_position = [atom_centers[0][i] for i in range(3)]\n",
    "    \n",
    "    for pos in atom_centers:\n",
    "        for i in range(3):\n",
    "            if pos[i] < minima_position[i]:\n",
    "                minima_position[i] = pos[i]\n",
    "    return minima_position\n",
    "\n",
    "def find_maxima(atom_centers):\n",
    "    maxima_position = [atom_centers[0][i] for i in range(3)]\n",
    "    \n",
    "    for pos in atom_centers:\n",
    "        for i in range(3):\n",
    "            if pos[i] > maxima_position[i]:\n",
    "                maxima_position[i] = pos[i]\n",
    "    return maxima_position"
   ]
  },
  {
   "cell_type": "code",
   "execution_count": 3,
   "metadata": {},
   "outputs": [],
   "source": [
    "def encode_octant(octant):  # int from 0-7\n",
    "    encoding = list(format(octant, \"03b\"))\n",
    "    result = [0, 0, 0]\n",
    "    \n",
    "    for i in range(3):\n",
    "        result[i] = int(encoding[i])\n",
    "        \n",
    "    return result"
   ]
  },
  {
   "cell_type": "code",
   "execution_count": 4,
   "metadata": {},
   "outputs": [],
   "source": [
    "def generate_flips(encoding): # determines a cell's 3 immediate siblings/neighbors \n",
    "    bit_flips = []\n",
    "    \n",
    "    for i in range(len(encoding)):\n",
    "        flip = encoding.copy()\n",
    "        flip[i] = (encoding[i] + 1) % 2\n",
    "        \n",
    "        bit_flips.append(flip)\n",
    "        \n",
    "    return bit_flips"
   ]
  },
  {
   "cell_type": "code",
   "execution_count": 5,
   "metadata": {},
   "outputs": [],
   "source": [
    "# (0,x,x) -> (1,x,x):  dim = 0, end_state = 1\n",
    "# generates all possible (1,x,x) encodings\n",
    "\n",
    "def generate_closest_octants(dim, end_state):  # dim: int in [0, 2], end_state: int in [0, 1]\n",
    "    template = [0,0,0]\n",
    "    template[dim] = (end_state + 1) % 2\n",
    "    closest_octants = []\n",
    "    \n",
    "    for i in range(2):\n",
    "        for j in range(2):\n",
    "            octant = template.copy()\n",
    "            \n",
    "            octant[(dim+1)%3] = i\n",
    "            octant[(dim+2)%3] = j\n",
    "            \n",
    "            closest_octants.append(octant)\n",
    "            \n",
    "    return closest_octants"
   ]
  },
  {
   "cell_type": "code",
   "execution_count": 6,
   "metadata": {},
   "outputs": [
    {
     "data": {
      "text/plain": [
       "[[0, 1, 0], [1, 1, 0], [0, 1, 1], [1, 1, 1]]"
      ]
     },
     "execution_count": 6,
     "metadata": {},
     "output_type": "execute_result"
    }
   ],
   "source": [
    "generate_closest_octants(1, 0)"
   ]
  },
  {
   "cell_type": "code",
   "execution_count": 17,
   "metadata": {},
   "outputs": [],
   "source": [
    "# every node is indexed by a sequence of octants \n",
    "# e.g. [0, 7, 1, 3] for a node at depth 4\n",
    "# here, each octant is returned as a binary triplet\n",
    "# e.g. 3 is represented as [0, 1, 1]\n",
    "\n",
    "\n",
    "def find_path_of_node(node, path=[]):\n",
    "    if node.parent is None:\n",
    "        return []\n",
    "    \n",
    "    path = find_path_of_node(node.parent)\n",
    "    enc = encode_octant(node.octant)\n",
    "    \n",
    "    path.append(enc)\n",
    "    \n",
    "    return path"
   ]
  },
  {
   "cell_type": "code",
   "execution_count": 22,
   "metadata": {},
   "outputs": [],
   "source": [
    "# say you have a sequence such as [0, 1, 0, 0, 0, 0, 0] \n",
    "# or [0, 0, 0, 0, 1, 1, 1] and, starting from the end of the sequence, \n",
    "# you want to know when the pattern of \"same\" entries breaks\n",
    "# In the first example, it's at index 1. In the second, it's 4.\n",
    "\n",
    "\n",
    "\n",
    "def detect_deviation(sequence): \n",
    "    n = len(sequence)\n",
    "    \n",
    "    head_prev = head = sequence[n - 1]\n",
    "    head = sequence[n - 1]\n",
    "    \n",
    "    for i in range(n):\n",
    "        index = n - i - 1\n",
    "        head_prev = head\n",
    "        head = sequence[index]\n",
    "        \n",
    "        if head != head_prev:\n",
    "            return index\n",
    "        \n",
    "    return None"
   ]
  },
  {
   "cell_type": "code",
   "execution_count": 58,
   "metadata": {},
   "outputs": [],
   "source": [
    "def invert_path_at_index(path, index, dim=0):    \n",
    "    inverted_path = deepcopy(path)\n",
    "    \n",
    "    if index is None:\n",
    "        return inverted_path\n",
    "    \n",
    "    n = len(path)\n",
    "    for i in range(index, n):\n",
    "        inverted_path[i][dim] = (inverted_path[i][dim] + 1) % 2\n",
    "        \n",
    "    return inverted_path"
   ]
  },
  {
   "cell_type": "code",
   "execution_count": 59,
   "metadata": {},
   "outputs": [
    {
     "name": "stdout",
     "output_type": "stream",
     "text": [
      "[[1, 0, 1], [0, 0, 1], [0, 1, 1]]\n",
      "[[0, 0, 1], [1, 0, 1], [1, 1, 1]]\n"
     ]
    }
   ],
   "source": [
    "path = [[0,0,1],[1,0,1],[1,1,1]]\n",
    "\n",
    "print(invert_path_at_index(path, 0, dim=0))\n",
    "print(path)"
   ]
  },
  {
   "cell_type": "code",
   "execution_count": 62,
   "metadata": {},
   "outputs": [],
   "source": [
    "# each node is the tree has a unique path \n",
    "# e.g. [[0,0,1],[1,0,1],[1,1,1]]\n",
    "# as well as up to 6* neighboring nodes with similar paths\n",
    "# *(up to 6 only if considering cells at the same depth or below)\n",
    "#\n",
    "# Our example path has neighboring paths:\n",
    "# [[0,0,1],[1,0,1],[0,1,1]]  (the last octant with any of the 3 entries flipped)\n",
    "# [[0,0,1],[1,1,1],[1,0,1]]  (entry [1] from the last two octants inverted)\n",
    "# [[1,0,1],[0,0,1],[0,1,1]]  (sliceing the [0] indices gives a sequence\n",
    "# {0, 1, 1} which is inverted to {1, 0, 0} keeping everything else fixed)\n",
    "# \n",
    "# So our path has 5 neighobring cells in the octree\n",
    "\n",
    "def find_neighbors_at_same_depth(path):\n",
    "    n = len(path)\n",
    "    neighbors = []\n",
    "    \n",
    "    head_prev = [None, None, None]  # can just be None but I want to be consistent\n",
    "    head = [None, None, None]\n",
    "    \n",
    "    for i in range(n):\n",
    "        index = n - i - 1\n",
    "        head_prev = head.copy()\n",
    "        head = path[index].copy()\n",
    "        \n",
    "        for j in range(3):\n",
    "            if head[j] != head_prev[j]:\n",
    "                neighbor_path = invert_path_at_index(path, index, dim=j)\n",
    "                neighbors.append(neighbor_path)\n",
    "                \n",
    "    return neighbors"
   ]
  },
  {
   "cell_type": "code",
   "execution_count": 63,
   "metadata": {},
   "outputs": [
    {
     "data": {
      "text/plain": [
       "[[[0, 0, 1], [1, 0, 1], [0, 1, 1]],\n",
       " [[0, 0, 1], [1, 0, 1], [1, 0, 1]],\n",
       " [[0, 0, 1], [1, 0, 1], [1, 1, 0]],\n",
       " [[0, 0, 1], [1, 1, 1], [1, 0, 1]],\n",
       " [[1, 0, 1], [0, 0, 1], [0, 1, 1]]]"
      ]
     },
     "execution_count": 63,
     "metadata": {},
     "output_type": "execute_result"
    }
   ],
   "source": [
    "find_neighbors_at_same_depth([[0,0,1],[1,0,1],[1,1,1]])"
   ]
  },
  {
   "cell_type": "code",
   "execution_count": 8,
   "metadata": {},
   "outputs": [],
   "source": [
    "class Node:\n",
    "    def __init__(self, points, parent=None, octant=None):\n",
    "        self.points = points\n",
    "        self.parent = parent\n",
    "        self.octant = octant\n",
    "        self.children = []\n",
    "        self.leaves = []\n",
    "        self.index = None  \n",
    "        self.dimensions = None\n",
    "        self.center = None \n",
    "        self.depth = None\n",
    "        self.category = None\n",
    "        \n",
    "        # this initializes the root node\n",
    "        if parent is None:\n",
    "            self.depth = 0\n",
    "            \n",
    "            minima_position, maxima_position = None, None   \n",
    "            \n",
    "            # should always be true for root node, but just in case\n",
    "            if self.points: \n",
    "                minima_position = find_minima(self.points) \n",
    "                maxima_position = find_maxima(self.points)\n",
    "\n",
    "                self.dimensions = [maxima_position[i] - minima_position[i] for i in range(3)]\n",
    "                self.center = [minima_position[i] + self.dimensions[i]/2.0 for i in range(3)]\n",
    "            \n",
    "        # initialize child nodes\n",
    "        else: \n",
    "            self.depth = self.parent.depth + 1\n",
    "            self.dimensions = [self.parent.dimensions[i]/2.0 for i in range(3)]\n",
    "            \n",
    "            octant_encoding = encode_octant(self.octant)  # convert octant to binary\n",
    "            offset = [self.dimensions[i]/2.0 for i in range(3)]\n",
    "            \n",
    "            self.center = [self.parent.center[i] + (1 - 2*octant_encoding[i])*offset[i] for i in range(3)]\n",
    "\n",
    "    \n",
    "    # generates 8 child nodes according to the octree algorithm.\n",
    "    # this will only execute if the number of atoms in this cell \n",
    "    # is greater than the minimum number of atoms allowed in a cell\n",
    "    \n",
    "    def create_children(self, min_atoms):\n",
    "        \n",
    "        # exit function early if there are too few atoms in the cell\n",
    "        if len(self.points) < min_atoms:\n",
    "            self.children = []\n",
    "            return\n",
    "        \n",
    "        # divide into octants\n",
    "        divided_points = [[] for _ in range(8)]\n",
    "        \n",
    "        for i in range(len(self.points)):\n",
    "            p = self.points[i]\n",
    "            x_pol = (p[0] <= self.center[0])\n",
    "            y_pol = (p[1] <= self.center[1])\n",
    "            z_pol = (p[2] <= self.center[2])\n",
    "\n",
    "            # abuse of Python's type coercion\n",
    "            # basically take the sequence of x,y,z_pol as\n",
    "            # a binary number and convert to base 10\n",
    "            ind = x_pol*4 + y_pol*2 + z_pol\n",
    "\n",
    "            divided_points[ind].append(p)\n",
    "\n",
    "        for i in range(8):\n",
    "            self.children.append(Node(divided_points[i], parent=self, octant=i))\n",
    "       \n",
    "    \n",
    "    # build octree with recursion\n",
    "    def span(self, min_atoms):\n",
    "        self.create_children(min_atoms)\n",
    "        \n",
    "        for child in self.children:\n",
    "            child.span(min_atoms)\n",
    "            \n",
    "    \n",
    "    # returns total number of nodes\n",
    "    def count_subnodes(self): \n",
    "        count = 1\n",
    "        \n",
    "        for child in self.children:\n",
    "            count += child.count_subnodes()\n",
    "            \n",
    "        return count\n",
    "    \n",
    "    \n",
    "    def count_leaf_nodes(self):\n",
    "        count = 0\n",
    "        \n",
    "        if not self.children:\n",
    "            return 1\n",
    "        \n",
    "        for child in self.children:\n",
    "            count += child.count_leaf_nodes()\n",
    "            \n",
    "        return count\n",
    "    \n",
    "    \n",
    "    def collect_leaf_nodes(self, current_count=0):\n",
    "        count = 0\n",
    "        leaves = []\n",
    "        \n",
    "        if not self.children:\n",
    "            self.index = current_count\n",
    "            leaves.append(self)\n",
    "            return 1, leaves\n",
    "        \n",
    "        for child in self.children:\n",
    "            increment, new_leaves = child.collect_leaf_nodes(current_count)\n",
    "            count += increment\n",
    "            leaves.extend(new_leaves)\n",
    "            current_count = count\n",
    "            \n",
    "        if self.depth == 0:\n",
    "            self.leaves = leaves\n",
    "            \n",
    "        return 1, leaves"
   ]
  },
  {
   "cell_type": "code",
   "execution_count": 9,
   "metadata": {},
   "outputs": [],
   "source": [
    "tree = Node(atom_positions)\n",
    "\n",
    "# create an (8,1)-admissible octree\n",
    "tree.span(8)"
   ]
  },
  {
   "cell_type": "code",
   "execution_count": 10,
   "metadata": {},
   "outputs": [
    {
     "name": "stdout",
     "output_type": "stream",
     "text": [
      "total nodes in the tree: 1665\n",
      "total leaves in the tree: 1457\n"
     ]
    }
   ],
   "source": [
    "print(\"total nodes in the tree:\", tree.count_subnodes())\n",
    "\n",
    "tree.collect_leaf_nodes()\n",
    "\n",
    "print(\"total leaves in the tree:\", len(tree.leaves))"
   ]
  },
  {
   "cell_type": "code",
   "execution_count": 17,
   "metadata": {},
   "outputs": [
    {
     "data": {
      "text/plain": [
       "416"
      ]
     },
     "execution_count": 17,
     "metadata": {},
     "output_type": "execute_result"
    }
   ],
   "source": [
    "# how many leaf nodes are empty?\n",
    "s = 0\n",
    "\n",
    "for leaf in tree.leaves:\n",
    "    if not leaf.points:\n",
    "        leaf.category = 'exterior'\n",
    "        s += 1\n",
    "        \n",
    "s"
   ]
  },
  {
   "cell_type": "code",
   "execution_count": 56,
   "metadata": {},
   "outputs": [
    {
     "name": "stdout",
     "output_type": "stream",
     "text": [
      "[[34, 2], [9, 4]] [[34, 2], [9, 4]]\n"
     ]
    }
   ],
   "source": [
    "li = [[0,2],[9,4]]\n",
    "a = li.copy()\n",
    "\n",
    "a[0][0] = 34\n",
    "\n",
    "print(a, li)"
   ]
  },
  {
   "cell_type": "code",
   "execution_count": null,
   "metadata": {},
   "outputs": [],
   "source": []
  }
 ],
 "metadata": {
  "kernelspec": {
   "display_name": "Python 3",
   "language": "python",
   "name": "python3"
  },
  "language_info": {
   "codemirror_mode": {
    "name": "ipython",
    "version": 3
   },
   "file_extension": ".py",
   "mimetype": "text/x-python",
   "name": "python",
   "nbconvert_exporter": "python",
   "pygments_lexer": "ipython3",
   "version": "3.7.6"
  }
 },
 "nbformat": 4,
 "nbformat_minor": 4
}
